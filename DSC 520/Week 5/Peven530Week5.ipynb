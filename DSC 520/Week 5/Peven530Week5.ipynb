{
 "cells": [
  {
   "cell_type": "markdown",
   "metadata": {},
   "source": [
    "# Exercise 5.2\n",
    "**Skylar Peven**\n",
    "**DSC 530**\n",
    "**01/12/2025**"
   ]
  },
  {
   "cell_type": "markdown",
   "metadata": {},
   "source": [
    "**5.1**\n",
    "In the BRFSS (see Section 5.4), the distribution of heights is\n",
    "roughly normal with parameters µ = 178 cm and σ = 7.7 cm for men, and\n",
    "µ = 163 cm and σ = 7.3 cm for women.\n",
    "In order to join Blue Man Group, you have to be male between 5’10” and\n",
    "6’1” (see http://bluemancasting.com).\n",
    "\n",
    "What percentage of the U.S. male\n",
    "population is in this range? Hint: use scipy.stats.norm.cdf."
   ]
  },
  {
   "cell_type": "code",
   "execution_count": 5,
   "metadata": {},
   "outputs": [
    {
     "name": "stdout",
     "output_type": "stream",
     "text": [
      "Percentage of U.S. Male Pop. that could join the Blue Man Group:  0.3420946829459531\n"
     ]
    }
   ],
   "source": [
    "import scipy.stats\n",
    "\n",
    "# Creates a normal distribution with mu of 178cm and sigma of 7.7cm.\n",
    "dist = scipy.stats.norm(178, 7.7)\n",
    "\n",
    "# Evaluate CDF for 5'10\"\n",
    "low = dist.cdf(177.8)  \n",
    "\n",
    "# Evaluate CDF for 6'1\"\n",
    "high = dist.cdf(185.4)  \n",
    "\n",
    "print(\"Percentage of U.S. Male Pop. that could join the Blue Man Group: \", high-low)"
   ]
  },
  {
   "cell_type": "markdown",
   "metadata": {},
   "source": [
    "**5.2**\n",
    "To get a feel for the Pareto distribution, let’s see how different\n",
    "the world would be if the distribution of human height were Pareto. With the\n",
    "parameters xm = 1 m and α = 1.7, we get a distribution with a reasonable\n",
    "minimum, 1 m, and median, 1.5 m.\n",
    "\n",
    "Plot this distribution.\n",
    "\n",
    "What is the mean human height in Pareto world?\n",
    "\n",
    "What fraction of the population is shorter than the mean?\n",
    "\n",
    "If there are 7 billion people in Pareto world, how many do we expect to be taller than 1 km?\n",
    "\n",
    "How tall do we expect the tallest person to be?"
   ]
  },
  {
   "cell_type": "code",
   "execution_count": 2,
   "metadata": {},
   "outputs": [
    {
     "name": "stdout",
     "output_type": "stream",
     "text": [
      "Mean Height in Pareto World:  3.428571428571429 Meters\n",
      "Fraction of the Pop. Shorter than Average:  0.778739697565288 Short Kings\n",
      "# of People Taller than 1km:  55697.6292567235 Pareto People\n",
      "Tallest Person in Pareto World:  618350.6106759505 Meters\n"
     ]
    }
   ],
   "source": [
    "# Creates a Pareto distribution with alpha of 1.7m and minimum x of 1m.\n",
    "dist = scipy.stats.pareto(1.7, 1)\n",
    "\n",
    "# Average height\n",
    "print(\"Mean Height in Pareto World: \", dist.mean(), \"Meters\")\n",
    "\n",
    "# Fraction of population shorter than the mean.\n",
    "print(\"Fraction of the Pop. Shorter than Average: \", dist.cdf(dist.mean()), \"Short Kings\")\n",
    "\n",
    "# Percentage of people above 1000m(1km) multiplied by 7 billion on earth.\n",
    "print(\"# of People Taller than 1km: \", (1 - dist.cdf(1000)) * 7e9, \"Pareto People\")\n",
    "\n",
    "# Tallest Person.\n",
    "print(\"Tallest Person in Pareto World: \", dist.ppf(1 - 1 / 7e9), \"Meters\")"
   ]
  },
  {
   "cell_type": "markdown",
   "metadata": {},
   "source": [
    "**6.1**\n",
    "The distribution of income is famously skewed to the right. In\n",
    "this exercise, we’ll measure how strong that skew is.\n",
    "The Current Population Survey (CPS) is a joint effort of the Bureau of Labor\n",
    "Statistics and the Census Bureau to study income and related variables.\n",
    "Data collected in 2013 is available from http://www.census.gov/hhes/www/\n",
    "cpstables/032013/hhinc/toc.htm. I downloaded hinc06.xls, which is an\n",
    "Excel spreadsheet with information about household income, and converted\n",
    "it to hinc06.csv, a CSV file you will find in the repository for this book.\n",
    "You will also find hinc2.py, which reads this file and transforms the data.\n",
    "The dataset is in the form of a series of income ranges and the number of\n",
    "respondents who fell in each range. The lowest range includes respondents\n",
    "who reported annual household income “Under $5000.” The highest range\n",
    "includes respondents who made “$250,000 or more.”\n",
    "\n",
    "To estimate mean and other statistics from these data, we have to make some\n",
    "assumptions about the lower and upper bounds, and how the values are distributed in each range. hinc2.py provides InterpolateSample, which shows\n",
    "one way to model this data. It takes a DataFrame with a column, income,\n",
    "that contains the upper bound of each range, and freq, which contains the\n",
    "number of respondents in each frame.\n",
    "It also takes log_upper, which is an assumed upper bound on the highest\n",
    "range, expressed in log10 dollars. The default value, log_upper=6.0 represents the assumption that the largest income among the respondents is 10^6,\n",
    "or one million dollars.\n",
    "InterpolateSample generates a pseudo-sample; that is, a sample of household incomes that yields the same number of respondents in each range as\n",
    "the actual data. It assumes that incomes in each range are equally spaced\n",
    "on a log10 scale.\n",
    "\n",
    "Compute the median, mean, skewness and Pearson’s skewness of the resulting\n",
    "sample. What fraction of households reports a taxable income below the\n",
    "mean?"
   ]
  },
  {
   "cell_type": "code",
   "execution_count": 2,
   "metadata": {},
   "outputs": [],
   "source": [
    "# Download the necessary data.\n",
    "from os.path import basename, exists\n",
    "\n",
    "def download(url):\n",
    "    filename = basename(url)\n",
    "    if not exists(filename):\n",
    "        from urllib.request import urlretrieve\n",
    "\n",
    "        local, _ = urlretrieve(url, filename)\n",
    "        print(\"Downloaded \" + local)\n",
    "\n",
    "# Downloads the python files neccasary for use with the course.\n",
    "download(\"https://github.com/AllenDowney/ThinkStats2/raw/master/code/thinkstats2.py\")\n",
    "download(\"https://github.com/AllenDowney/ThinkStats2/raw/master/code/thinkplot.py\")\n",
    "# Downloads the python files neccasary for this exercise.\n",
    "download(\"https://github.com/AllenDowney/ThinkStats2/raw/master/code/hinc.py\")\n",
    "download(\"https://github.com/AllenDowney/ThinkStats2/raw/master/code/hinc2.py\")\n",
    "download(\"https://github.com/AllenDowney/ThinkStats2/raw/master/code/hinc06.csv\")\n",
    "\n",
    "import hinc\n",
    "import thinkplot\n",
    "import thinkstats2\n",
    "import numpy as np\n",
    "\n",
    "# From Hinc2.py\n",
    "def InterpolateSample(df, log_upper=6.0):\n",
    "    \"\"\"Makes a sample of log10 household income.\n",
    "\n",
    "    Assumes that log10 income is uniform in each range.\n",
    "\n",
    "    df: DataFrame with columns income and freq\n",
    "    log_upper: log10 of the assumed upper bound for the highest range\n",
    "\n",
    "    returns: NumPy array of log10 household income\n",
    "    \"\"\"\n",
    "    # compute the log10 of the upper bound for each range\n",
    "    df['log_upper'] = np.log10(df.income)\n",
    "\n",
    "    # get the lower bounds by shifting the upper bound and filling in\n",
    "    # the first element\n",
    "    df['log_lower'] = df.log_upper.shift(1)\n",
    "    df.loc[0, 'log_lower'] = 3.0\n",
    "\n",
    "    # plug in a value for the unknown upper bound of the highest range\n",
    "    df.loc[41, 'log_upper'] = log_upper\n",
    "    \n",
    "    # use the freq column to generate the right number of values in\n",
    "    # each range\n",
    "    arrays = []\n",
    "    for _, row in df.iterrows():\n",
    "        vals = np.linspace(row.log_lower, row.log_upper, int(row.freq))\n",
    "        arrays.append(vals)\n",
    "\n",
    "    # collect the arrays into a single sample\n",
    "    log_sample = np.concatenate(arrays)\n",
    "    return log_sample\n"
   ]
  },
  {
   "cell_type": "code",
   "execution_count": 3,
   "metadata": {},
   "outputs": [],
   "source": [
    "# Create a DF of incomes\n",
    "income_df = hinc.ReadData()\n",
    "# Takes a sample of respondents from the full data set on a log scale.\n",
    "log_sample = InterpolateSample(income_df, log_upper=6.0)"
   ]
  },
  {
   "cell_type": "code",
   "execution_count": 4,
   "metadata": {},
   "outputs": [
    {
     "name": "stdout",
     "output_type": "stream",
     "text": [
      "Mean:  74278.7075311872\n",
      "Median:  51226.45447894046\n",
      "Skewness:  4.949920244429583\n",
      "Pearson Median Skewness:  0.7361258019141782\n",
      "Percent Households Below the Mean:  0.660005879566872\n"
     ]
    }
   ],
   "source": [
    "# Inverts the log_sample data.\n",
    "sample = np.power(10, log_sample)\n",
    "# Creates a CDF of the sample data.\n",
    "cdf = thinkstats2.Cdf(sample)\n",
    "\n",
    "print(\"Mean: \", thinkstats2.Mean(sample))\n",
    "print(\"Median: \", thinkstats2.Median(sample))\n",
    "print(\"Skewness: \", thinkstats2.Skewness(sample))\n",
    "print(\"Pearson Median Skewness: \", thinkstats2.PearsonMedianSkewness(sample))\n",
    "print(\"Percent Households Below the Mean: \", cdf.Prob(thinkstats2.Mean(sample)))\n"
   ]
  },
  {
   "cell_type": "markdown",
   "metadata": {},
   "source": [
    "**How do the results depend on the assumed upper bound?**\n",
    "\n",
    "An upper income cap of one million dollars isn't realistic and as the the cap increases so will all of the descriptive statistics. "
   ]
  }
 ],
 "metadata": {
  "kernelspec": {
   "display_name": "Python 3",
   "language": "python",
   "name": "python3"
  },
  "language_info": {
   "codemirror_mode": {
    "name": "ipython",
    "version": 3
   },
   "file_extension": ".py",
   "mimetype": "text/x-python",
   "name": "python",
   "nbconvert_exporter": "python",
   "pygments_lexer": "ipython3",
   "version": "3.12.9"
  }
 },
 "nbformat": 4,
 "nbformat_minor": 2
}
